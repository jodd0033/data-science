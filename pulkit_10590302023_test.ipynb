{
 "cells": [
  {
   "cell_type": "code",
   "execution_count": null,
   "id": "fe05fdc7-90f7-4783-9d78-b6eee679ef6e",
   "metadata": {},
   "outputs": [],
   "source": [
    "1#difference between list and tuple\n",
    "#list                                            #tuple\n",
    "list are represented by[]                         tuple are represented by()\n",
    "list is mutable                                   tuple is immutable\n",
    "\n"
   ]
  },
  {
   "cell_type": "code",
   "execution_count": null,
   "id": "d4d34eaa-82ad-4567-9a61-6b8c7d62fcf1",
   "metadata": {},
   "outputs": [],
   "source": [
    "2#input() is used in python as it takes the user input and it is built in function\n",
    "it returns string datatype"
   ]
  },
  {
   "cell_type": "code",
   "execution_count": 9,
   "id": "28314512-c097-41da-bee5-81bb7db22455",
   "metadata": {},
   "outputs": [
    {
     "name": "stdout",
     "output_type": "stream",
     "text": [
      "{'name': 'pulkit', 'age': 20, 'city': 'Noida'}\n"
     ]
    }
   ],
   "source": [
    "#3python dictionary stores key value pair\n",
    "import pandas as pd\n",
    "data= {\n",
    "    'name': 'pulkit',\n",
    "    'age': 20,\n",
    "    'city': 'Noida'}\n",
    "print(data)"
   ]
  },
  {
   "cell_type": "code",
   "execution_count": 8,
   "id": "8d65e342-e39c-493a-81c1-b58c30b26212",
   "metadata": {},
   "outputs": [
    {
     "name": "stdout",
     "output_type": "stream",
     "text": [
      "1\n",
      "2\n",
      "3\n",
      "4\n",
      "5\n"
     ]
    }
   ],
   "source": [
    "#4\n",
    "for i in range(1, 6):\n",
    "    print(i)"
   ]
  },
  {
   "cell_type": "code",
   "execution_count": 15,
   "id": "137f3f6e-08ef-4633-8426-4cf86a9f5cd2",
   "metadata": {},
   "outputs": [
    {
     "name": "stdout",
     "output_type": "stream",
     "text": [
      "You can't divide by zero!\n",
      "done\n"
     ]
    }
   ],
   "source": [
    "#5\n",
    "#exception handling helps in managing runtime errors or unexpected error that occurs\n",
    "try:\n",
    "    print(2/0)\n",
    "except:\n",
    "    print(\"You can't divide by zero!\")\n",
    "finally:\n",
    "    print(\"done\")"
   ]
  },
  {
   "cell_type": "code",
   "execution_count": null,
   "id": "9a6e8d75-d238-4cca-bdb2-9699847de70a",
   "metadata": {},
   "outputs": [],
   "source": [
    "#6 python module is any file containing python code(functions,classes etc) these module are easy to use and reusable\n",
    "#import math                                                   #import sqrt math\n",
    "import entire math module                                        import only sqrt function from math module"
   ]
  },
  {
   "cell_type": "code",
   "execution_count": null,
   "id": "f3003725-60bb-40f6-b811-99ae3f876747",
   "metadata": {},
   "outputs": [],
   "source": [
    "#7 \n",
    "oops in python means that it uses real world entities as object and classes\n",
    "4 pillars of oops are\n",
    "1.abstraction\n",
    "2.polymorphism\n",
    "3.inheritance\n",
    "4.encapsulation\n",
    "class helps to define data and function \n",
    "object carries the property and it is also known as blueprint of the object"
   ]
  },
  {
   "cell_type": "code",
   "execution_count": 24,
   "id": "bae91479-680a-4fc2-b073-bb088d106177",
   "metadata": {},
   "outputs": [],
   "source": [
    "#8 list comprehension allows you to generate new list from a string or another existing list"
   ]
  },
  {
   "cell_type": "code",
   "execution_count": 18,
   "id": "ea76fb12-382d-4bf3-a3a1-5fe435fb0803",
   "metadata": {},
   "outputs": [
    {
     "name": "stdout",
     "output_type": "stream",
     "text": [
      "78.53981633974483\n"
     ]
    }
   ],
   "source": [
    "#9\n",
    "import math\n",
    "r=5\n",
    "area = math.pi*(r**2)\n",
    "print(area)"
   ]
  },
  {
   "cell_type": "code",
   "execution_count": 20,
   "id": "e1d0dbff-d6d9-4465-8a47-f57c96f9501a",
   "metadata": {},
   "outputs": [
    {
     "name": "stdin",
     "output_type": "stream",
     "text": [
      "what is your name? pulkit\n",
      "what is you age? 20\n"
     ]
    },
    {
     "name": "stdout",
     "output_type": "stream",
     "text": [
      "Hello\n",
      "pulkityour age is20\n"
     ]
    }
   ],
   "source": [
    "#10\n",
    "name = input(\"what is your name?\")\n",
    "age = input(\"what is you age?\")\n",
    "print(f'Hello\\n{name}your age is{age}')"
   ]
  },
  {
   "cell_type": "code",
   "execution_count": 23,
   "id": "8be18f06-a381-4ee0-9c88-f3e722427bb1",
   "metadata": {},
   "outputs": [
    {
     "name": "stdout",
     "output_type": "stream",
     "text": [
      "1.apple\n",
      "2.mango\n",
      "3.banana\n",
      "4.orange\n",
      "5.kiwi\n"
     ]
    }
   ],
   "source": [
    "#11\n",
    "fruits = ['apple','mango','banana','orange','kiwi']\n",
    "for i in range(len(fruits)):\n",
    "    print(f'{i+1}.{fruits[i]}')"
   ]
  },
  {
   "cell_type": "code",
   "execution_count": 27,
   "id": "3fe842a1-41c0-4a2b-b62a-83414bcb563b",
   "metadata": {},
   "outputs": [
    {
     "name": "stdout",
     "output_type": "stream",
     "text": [
      "score 90-> grade: a\n",
      "score 62-> grade: c\n",
      "score 53-> grade: d\n",
      "score 33-> grade: f\n"
     ]
    }
   ],
   "source": [
    "#12\n",
    "def grade_calculator(score):\n",
    "    if score>=90:\n",
    "        return'a'\n",
    "    elif score>=70:\n",
    "        return'b'\n",
    "    elif score>=60:\n",
    "        return'c'\n",
    "    elif score>=50:\n",
    "        return'd'\n",
    "    else:\n",
    "        return'f'\n",
    "print(\"score 90-> grade:\",grade_calculator(90))\n",
    "print(\"score 62-> grade:\",grade_calculator(62))\n",
    "print(\"score 53-> grade:\",grade_calculator(53))\n",
    "print(\"score 33-> grade:\",grade_calculator(33))"
   ]
  },
  {
   "cell_type": "code",
   "execution_count": null,
   "id": "bb45af18-0da3-4165-a1e1-25d7ebffe639",
   "metadata": {},
   "outputs": [],
   "source": []
  }
 ],
 "metadata": {
  "kernelspec": {
   "display_name": "Python [conda env:base] *",
   "language": "python",
   "name": "conda-base-py"
  },
  "language_info": {
   "codemirror_mode": {
    "name": "ipython",
    "version": 3
   },
   "file_extension": ".py",
   "mimetype": "text/x-python",
   "name": "python",
   "nbconvert_exporter": "python",
   "pygments_lexer": "ipython3",
   "version": "3.13.5"
  }
 },
 "nbformat": 4,
 "nbformat_minor": 5
}
